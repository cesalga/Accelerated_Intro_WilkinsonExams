{
 "cells": [
  {
   "cell_type": "markdown",
   "metadata": {},
   "source": [
    "## Problem 1\n",
    "\n",
    "\n",
    "* Copy the Locus_Germplasm_Phenotype_20130122.txt file into your copy of the Exams Git\n",
    "* Create a new Jupyter Notebook in your Exams folder called \"Exam_1_Answers\" using the 'bash' kernel \n",
    "* Do the rest of this exam inside of that the \"Exam_1_Answers\" Notebook"
   ]
  },
  {
   "cell_type": "code",
   "execution_count": null,
   "metadata": {},
   "outputs": [],
   "source": [
    "cp Locus_Germplasm_Phenotype_20130122.txt Locus_Germplasm_Phenotype_20130122_COPY.txt\n",
    "ls\n",
    "git add Locus_Germplasm_Phenotype_20130122_COPY.txt\n",
    "git commit -m \"This is a copy of Locus_Germplasm_Phenotype_20130122.txt\"\n",
    "git push"
   ]
  },
  {
   "cell_type": "markdown",
   "metadata": {},
   "source": [
    "## Problem 2\n",
    "\n",
    "Create a directory listing command that shows:\n",
    "\n",
    "* the ownership of the file\n",
    "* it's file-size, in Megabytes (i.e. human readable)\n",
    "\n",
    "then:\n",
    "\n",
    "* in words (in a Markdown box), describe the _permissions_ on that file (read/write/execute) for users, groups, and \"anyone\"\n"
   ]
  },
  {
   "cell_type": "code",
   "execution_count": null,
   "metadata": {},
   "outputs": [],
   "source": [
    "ls -lsh\n",
    "#-l shows the ownership of all the files (obviously not only the ownership). In this case, all the files own to the user osboxes\n",
    "#-s shows the size of each file at the beginning of the line\n",
    "#-h shows the size information in Megabytes or Kilobytes"
   ]
  },
  {
   "cell_type": "markdown",
   "metadata": {},
   "source": [
    "Permissions information appears in the second column. User 'osboxes' and groups can read and write, but not execute. For the rest, files only can be read."
   ]
  },
  {
   "cell_type": "markdown",
   "metadata": {},
   "source": [
    "## Problem 3\n",
    "\n",
    "* Create a command that outputs only the \"header\" line of Locus_Germplasm_Phenotype_20130122.txt"
   ]
  },
  {
   "cell_type": "code",
   "execution_count": 12,
   "metadata": {},
   "outputs": [
    {
     "name": "stdout",
     "output_type": "stream",
     "text": [
      "Locus_name)\tGermplasm_name\tphenotype\tpubmed_id\n"
     ]
    }
   ],
   "source": [
    "head -1 Locus_Germplasm_Phenotype_20130122.txt\n",
    "#Only 'head' outputs the first 10 lines of the txt. When '-1' is added, only the first line is shown."
   ]
  },
  {
   "cell_type": "markdown",
   "metadata": {},
   "source": [
    "## Problem 4\n",
    "\n",
    "* Create a command that outputs the total number of lines in Locus_Germplasm_Phenotype_20130122.txt"
   ]
  },
  {
   "cell_type": "code",
   "execution_count": 15,
   "metadata": {},
   "outputs": [
    {
     "name": "stdout",
     "output_type": "stream",
     "text": [
      "7216 Locus_Germplasm_Phenotype_20130122.txt\n"
     ]
    }
   ],
   "source": [
    "wc -l Locus_Germplasm_Phenotype_20130122.txt\n",
    "#wc counts number of lines and words. When '-l' es added, output only shows the number of lines (7216)"
   ]
  },
  {
   "cell_type": "markdown",
   "metadata": {},
   "source": [
    "## Problem 5\n",
    "\n",
    "* Create a command that writes ONLY the data lines (i.e. excludes the header!) to a new file called \"Data_Only.csv\"\n",
    "* prove that your output file has the expected number of lines"
   ]
  },
  {
   "cell_type": "code",
   "execution_count": 19,
   "metadata": {},
   "outputs": [
    {
     "name": "stdout",
     "output_type": "stream",
     "text": [
      "7215 Data_Only.csv\n"
     ]
    }
   ],
   "source": [
    "tail -7215 Locus_Germplasm_Phenotype_20130122.txt > Data_Only.csv\n",
    "#\"tail -x\" shows the last x lines.\n",
    "#'>' creates a new file with the output generated.\n",
    "wc -l Data_Only.csv\n",
    "# I am checking that my new file is correct."
   ]
  },
  {
   "cell_type": "markdown",
   "metadata": {},
   "source": [
    "## Problem 6\n",
    "\n",
    "* Create a command that shows all of the lines that have a phenotype including the word \"root\"\n"
   ]
  },
  {
   "cell_type": "code",
   "execution_count": null,
   "metadata": {},
   "outputs": [],
   "source": [
    "grep -in \"root\" Locus_Germplasm_Phenotype_20130122.txt\n",
    "#grep looks for the word between quotation marks along the file and shows all the lines where this word appears\n",
    "#-i makes the order insensitive to case\n",
    "#-n outputs the number of each line at the beginning of each one."
   ]
  },
  {
   "cell_type": "markdown",
   "metadata": {},
   "source": [
    "It also exits the option to use the command \"grep -in \"\\sroot\\s\" or something similar for only including the simple word of root. However, I consider it is more sensitive and logical to include derivative words too."
   ]
  },
  {
   "cell_type": "markdown",
   "metadata": {},
   "source": [
    "## Problem 7\n",
    "\n",
    "* Create a command that writes the AGI Locus Code for every line that has a phenotype including the word \"root\" to a file called: **Root-associated-Loci.txt**"
   ]
  },
  {
   "cell_type": "code",
   "execution_count": null,
   "metadata": {},
   "outputs": [],
   "source": [
    "grep -i \"root\" Locus_Germplasm_Phenotype_20130122.txt | grep -E -io \"at[1-5]g[0-9]{5}\" > Root-associated-Loci.txt\n",
    "cat Root-associated-Loci.txt\n",
    "#'|' gets the previous output for keeping working with.\n",
    "#-E allows me to include extended regular expressions to 'grep': {5}\n",
    "# -o allows me to write only the match in the new file\n",
    "# {5} adds to the order the next information: only match results with 5 digits of 0 to 9 in the final positions\n",
    "#'>' creates a new file with the output generated.\n",
    "#'cat' outputs all the content of the file. I use it for checking the content of the new file generated"
   ]
  },
  {
   "cell_type": "markdown",
   "metadata": {},
   "source": [
    "## Problem 8\n",
    "\n",
    "* Create a command that writes the AGI Locus Code for every line that has a phenotype including the word \"root\" to a file called: **Root-associated-Loci.txt**"
   ]
  },
  {
   "cell_type": "code",
   "execution_count": null,
   "metadata": {},
   "outputs": [],
   "source": [
    "grep -i \"root\" Locus_Germplasm_Phenotype_20130122.txt | grep -E -io \"[0-9]+$\" > Root-associated-Publications.txt\n",
    "cat Root-associated-Publications.txt\n",
    "#'+' allows us searching matches of an undefined amount of numbers of 0 to 9\n",
    "#'$' makes that the order only matches with coincidences at the end of lines"
   ]
  },
  {
   "cell_type": "markdown",
   "metadata": {},
   "source": [
    "## Problem 9\n",
    "\n",
    "* _**Control experiment**_:  You would hypothesize that genes associated with roots **should be found on all chromosomes.**  Find a way (one or more commands) to test this hypothesis.  In this dataset, is the hypothesis true? "
   ]
  },
  {
   "cell_type": "markdown",
   "metadata": {},
   "source": [
    "Since I think that genes associated with roots should be found on all chromosomes, I have to think a command that outputs me at least one gene for each chromosome.\n",
    "I know that the third digit in a AGI Locus Code represents the number of chromosome. Let's search how many results I find from \"greping\" root for each chromosome!"
   ]
  },
  {
   "cell_type": "code",
   "execution_count": 9,
   "metadata": {},
   "outputs": [
    {
     "name": "stdout",
     "output_type": "stream",
     "text": [
      "219 Root-associated-Chr_1.txt\n",
      "183 Root-associated-Chr_2.txt\n",
      "127 Root-associated-Chr_3.txt\n",
      "74 Root-associated-Chr_4.txt\n",
      "240 Root-associated-Chr_5.txt\n"
     ]
    }
   ],
   "source": [
    "grep -i \"root\" Locus_Germplasm_Phenotype_20130122.txt | grep -E -io \"at1g[0-9]{5}\" > Root-associated-Chr_1.txt\n",
    "grep -i \"root\" Locus_Germplasm_Phenotype_20130122.txt | grep -E -io \"at2g[0-9]{5}\" > Root-associated-Chr_2.txt\n",
    "grep -i \"root\" Locus_Germplasm_Phenotype_20130122.txt | grep -E -io \"at3g[0-9]{5}\" > Root-associated-Chr_3.txt\n",
    "grep -i \"root\" Locus_Germplasm_Phenotype_20130122.txt | grep -E -io \"at4g[0-9]{5}\" > Root-associated-Chr_4.txt\n",
    "grep -i \"root\" Locus_Germplasm_Phenotype_20130122.txt | grep -E -io \"at5g[0-9]{5}\" > Root-associated-Chr_5.txt\n",
    "wc -l Root-associated-Chr_1.txt\n",
    "wc -l Root-associated-Chr_2.txt\n",
    "wc -l Root-associated-Chr_3.txt\n",
    "wc -l Root-associated-Chr_4.txt\n",
    "wc -l Root-associated-Chr_5.txt"
   ]
  },
  {
   "cell_type": "markdown",
   "metadata": {},
   "source": [
    "I have obtained results in all the files generated. So, there are genes associated with roots in all the chromosomes."
   ]
  },
  {
   "cell_type": "markdown",
   "metadata": {},
   "source": [
    "## Problem 10\n",
    "\n",
    "* If your control experiment shows genes on every chromosome, then you can skip this question!  (you answered Problem 9 correctly!)\n",
    "\n",
    "*  If your control experiment shows genes only on one or two chromosomes, then you have to explain why... what could the problem be?  (I told you specifically to be careful about this problem!)\n"
   ]
  },
  {
   "cell_type": "markdown",
   "metadata": {},
   "source": [
    "C'mon! I can skip this question!"
   ]
  },
  {
   "cell_type": "markdown",
   "metadata": {},
   "source": [
    "## Problem 11\n",
    "\n",
    "* 'git commit' and 'git push' your answers to your GitHub, then give me your GitHub username before you leave the class. I will clone your repositories and grade your answers."
   ]
  },
  {
   "cell_type": "code",
   "execution_count": null,
   "metadata": {},
   "outputs": [],
   "source": [
    "git add Exam_1_Answers.ipynb\n",
    "git commit -m \"This is the latest version of my answers for Exam 1\""
   ]
  }
 ],
 "metadata": {
  "kernelspec": {
   "display_name": "Bash",
   "language": "bash",
   "name": "bash"
  },
  "language_info": {
   "codemirror_mode": "shell",
   "file_extension": ".sh",
   "mimetype": "text/x-sh",
   "name": "bash"
  }
 },
 "nbformat": 4,
 "nbformat_minor": 2
}
